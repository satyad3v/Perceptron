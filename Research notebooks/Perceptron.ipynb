{
 "cells": [
  {
   "cell_type": "code",
   "execution_count": 51,
   "id": "3d62e6b1",
   "metadata": {},
   "outputs": [],
   "source": [
    "import numpy as np\n",
    "import pandas as pd\n",
    "import os\n",
    "import joblib"
   ]
  },
  {
   "cell_type": "markdown",
   "id": "9ddf5145",
   "metadata": {},
   "source": [
    "## Dataset Preparation"
   ]
  },
  {
   "cell_type": "code",
   "execution_count": 52,
   "id": "1ff986bf",
   "metadata": {
    "scrolled": false
   },
   "outputs": [
    {
     "name": "stdout",
     "output_type": "stream",
     "text": [
      "   x1  x2  y\n",
      "0   0   0  0\n",
      "1   0   1  0\n",
      "2   1   0  0\n",
      "3   1   1  1\n"
     ]
    }
   ],
   "source": [
    "df = pd.DataFrame({\"x1\":[0, 0, 1, 1], \"x2\" : [0, 1, 0, 1], \"y\" : [0, 0, 0, 1]})\n",
    "print(df)\n",
    "x = df.drop(columns= \"y\")\n",
    "y = df[\"y\"]"
   ]
  },
  {
   "cell_type": "markdown",
   "id": "22443e13",
   "metadata": {},
   "source": [
    "## Perceptron Implementation"
   ]
  },
  {
   "cell_type": "code",
   "execution_count": 86,
   "id": "0caf0351",
   "metadata": {},
   "outputs": [],
   "source": [
    "class Perceptron:\n",
    "    def __init__(self, eta=None, epochs=None):\n",
    "        if (eta is not None) and (epochs is not None):\n",
    "            self.eta=eta\n",
    "            self.epochs = epochs\n",
    "\n",
    "            self.weights = np.random.rand(3)*1e-4\n",
    "\n",
    "            print(\"Initial weights are \\n\")\n",
    "            print(self.weights)\n",
    "        \n",
    "    def _z_value(self, inputs, weights):\n",
    "        return np.dot(inputs, weights)\n",
    "        \n",
    "    def _activation_func(self, z):\n",
    "        return np.where(z>=0, 1, 0)\n",
    "    \n",
    "    def fit(self, x, y):\n",
    "        self.x = x\n",
    "        self.y = y\n",
    "        \n",
    "        x_with_bias = np.c_[x, -np.ones((len(x), 1))]\n",
    "        \n",
    "        for epoch in range(1, self.epochs+1):\n",
    "            print(\"#\"*50)\n",
    "            print(f\"\\n Epoch {epoch}\\n\")\n",
    "            \n",
    "            z = self._z_value(x_with_bias, self.weights)\n",
    "            y_hat = self._activation_func(z)\n",
    "            print(f\"Prediction is : is {y_hat}\\n\")\n",
    "            \n",
    "            error = y - y_hat\n",
    "            print(f\"Error : is\\n{error}\\n\")\n",
    "            \n",
    "            self.weights = self.weights + self.eta * np.dot(x_with_bias.T, error)\n",
    "            print(f\"Updated weights are  : is\\n{self.weights}\\n\")\n",
    "        \n",
    "        self.error = error\n",
    "        print(f\"Total loss is {self.error.sum()}\")\n",
    "    \n",
    "    def predict(self, x):\n",
    "        x.append(-1)\n",
    "        z = np.dot(x, self.weights)\n",
    "        y_hat = self._activation_func(z)\n",
    "        return y_hat\n",
    "    \n",
    "    @property\n",
    "    def total_loss(self):\n",
    "        return self.error.sum()\n",
    "    \n",
    "    def save(self, filename, model_dir=\"model\"):\n",
    "        os.makedirs(model_dir, exist_ok=True)\n",
    "        file_path = os.path.join(model_dir, filename)\n",
    "        joblib.dump(self, file_path)\n",
    "        print(f\"Model is save to {file_path}\")\n",
    "        \n",
    "    def load(self, filename, model_dir=\"model\"):\n",
    "        \"\"\"\n",
    "        method for loading the model with the path of saved model\n",
    "        \"\"\"\n",
    "        file_path = os.path.join(model_dir, filename)\n",
    "        return joblib.load(file_path)\n"
   ]
  },
  {
   "cell_type": "code",
   "execution_count": 87,
   "id": "51f78914",
   "metadata": {
    "scrolled": false
   },
   "outputs": [
    {
     "name": "stdout",
     "output_type": "stream",
     "text": [
      "Initial weights are \n",
      "\n",
      "[4.64692960e-05 3.38545366e-05 9.16860492e-05]\n"
     ]
    }
   ],
   "source": [
    "model = Perceptron(eta=0.1, epochs=10)"
   ]
  },
  {
   "cell_type": "code",
   "execution_count": 88,
   "id": "9c6a4e0f",
   "metadata": {
    "scrolled": true
   },
   "outputs": [
    {
     "name": "stdout",
     "output_type": "stream",
     "text": [
      "##################################################\n",
      "\n",
      " Epoch 1\n",
      "\n",
      "Prediction is : is [0 0 0 0]\n",
      "\n",
      "Error : is\n",
      "0    0\n",
      "1    0\n",
      "2    0\n",
      "3    1\n",
      "Name: y, dtype: int64\n",
      "\n",
      "Updated weights are  : is\n",
      "[ 0.10004647  0.10003385 -0.09990831]\n",
      "\n",
      "##################################################\n",
      "\n",
      " Epoch 2\n",
      "\n",
      "Prediction is : is [1 1 1 1]\n",
      "\n",
      "Error : is\n",
      "0   -1\n",
      "1   -1\n",
      "2   -1\n",
      "3    0\n",
      "Name: y, dtype: int64\n",
      "\n",
      "Updated weights are  : is\n",
      "[4.64692960e-05 3.38545366e-05 2.00091686e-01]\n",
      "\n",
      "##################################################\n",
      "\n",
      " Epoch 3\n",
      "\n",
      "Prediction is : is [0 0 0 0]\n",
      "\n",
      "Error : is\n",
      "0    0\n",
      "1    0\n",
      "2    0\n",
      "3    1\n",
      "Name: y, dtype: int64\n",
      "\n",
      "Updated weights are  : is\n",
      "[0.10004647 0.10003385 0.10009169]\n",
      "\n",
      "##################################################\n",
      "\n",
      " Epoch 4\n",
      "\n",
      "Prediction is : is [0 0 0 1]\n",
      "\n",
      "Error : is\n",
      "0    0\n",
      "1    0\n",
      "2    0\n",
      "3    0\n",
      "Name: y, dtype: int64\n",
      "\n",
      "Updated weights are  : is\n",
      "[0.10004647 0.10003385 0.10009169]\n",
      "\n",
      "##################################################\n",
      "\n",
      " Epoch 5\n",
      "\n",
      "Prediction is : is [0 0 0 1]\n",
      "\n",
      "Error : is\n",
      "0    0\n",
      "1    0\n",
      "2    0\n",
      "3    0\n",
      "Name: y, dtype: int64\n",
      "\n",
      "Updated weights are  : is\n",
      "[0.10004647 0.10003385 0.10009169]\n",
      "\n",
      "##################################################\n",
      "\n",
      " Epoch 6\n",
      "\n",
      "Prediction is : is [0 0 0 1]\n",
      "\n",
      "Error : is\n",
      "0    0\n",
      "1    0\n",
      "2    0\n",
      "3    0\n",
      "Name: y, dtype: int64\n",
      "\n",
      "Updated weights are  : is\n",
      "[0.10004647 0.10003385 0.10009169]\n",
      "\n",
      "##################################################\n",
      "\n",
      " Epoch 7\n",
      "\n",
      "Prediction is : is [0 0 0 1]\n",
      "\n",
      "Error : is\n",
      "0    0\n",
      "1    0\n",
      "2    0\n",
      "3    0\n",
      "Name: y, dtype: int64\n",
      "\n",
      "Updated weights are  : is\n",
      "[0.10004647 0.10003385 0.10009169]\n",
      "\n",
      "##################################################\n",
      "\n",
      " Epoch 8\n",
      "\n",
      "Prediction is : is [0 0 0 1]\n",
      "\n",
      "Error : is\n",
      "0    0\n",
      "1    0\n",
      "2    0\n",
      "3    0\n",
      "Name: y, dtype: int64\n",
      "\n",
      "Updated weights are  : is\n",
      "[0.10004647 0.10003385 0.10009169]\n",
      "\n",
      "##################################################\n",
      "\n",
      " Epoch 9\n",
      "\n",
      "Prediction is : is [0 0 0 1]\n",
      "\n",
      "Error : is\n",
      "0    0\n",
      "1    0\n",
      "2    0\n",
      "3    0\n",
      "Name: y, dtype: int64\n",
      "\n",
      "Updated weights are  : is\n",
      "[0.10004647 0.10003385 0.10009169]\n",
      "\n",
      "##################################################\n",
      "\n",
      " Epoch 10\n",
      "\n",
      "Prediction is : is [0 0 0 1]\n",
      "\n",
      "Error : is\n",
      "0    0\n",
      "1    0\n",
      "2    0\n",
      "3    0\n",
      "Name: y, dtype: int64\n",
      "\n",
      "Updated weights are  : is\n",
      "[0.10004647 0.10003385 0.10009169]\n",
      "\n",
      "Total loss is 0\n"
     ]
    }
   ],
   "source": [
    "model.fit(x, y)"
   ]
  },
  {
   "cell_type": "code",
   "execution_count": 90,
   "id": "69371213",
   "metadata": {
    "scrolled": true
   },
   "outputs": [
    {
     "data": {
      "text/plain": [
       "array(0)"
      ]
     },
     "execution_count": 90,
     "metadata": {},
     "output_type": "execute_result"
    }
   ],
   "source": [
    "model.predict([0, 1])"
   ]
  },
  {
   "cell_type": "code",
   "execution_count": 91,
   "id": "1584f0cf",
   "metadata": {},
   "outputs": [
    {
     "data": {
      "text/plain": [
       "0"
      ]
     },
     "execution_count": 91,
     "metadata": {},
     "output_type": "execute_result"
    }
   ],
   "source": [
    "model.total_loss"
   ]
  },
  {
   "cell_type": "code",
   "execution_count": 57,
   "id": "6ff7b2f7",
   "metadata": {},
   "outputs": [
    {
     "name": "stdout",
     "output_type": "stream",
     "text": [
      "0 0 -> 0\n",
      "0 1 -> 0\n",
      "1 0 -> 0\n",
      "1 1 -> 1\n"
     ]
    }
   ],
   "source": [
    "for i in range(2):\n",
    "    for j in range(2):\n",
    "        print(f\"{i} {j} -> {model.predict([i, j])}\")"
   ]
  },
  {
   "cell_type": "code",
   "execution_count": 61,
   "id": "ba17d28a",
   "metadata": {},
   "outputs": [
    {
     "name": "stdout",
     "output_type": "stream",
     "text": [
      "Model is save to model\\perceptron_or_gate\n"
     ]
    }
   ],
   "source": [
    "model.save(\"perceptron_or_gate\")"
   ]
  },
  {
   "cell_type": "code",
   "execution_count": 71,
   "id": "a958cdbf",
   "metadata": {},
   "outputs": [
    {
     "name": "stdout",
     "output_type": "stream",
     "text": [
      "1\n"
     ]
    }
   ],
   "source": [
    "model_loaded = Perceptron().load(\"perceptron_or_gate\")\n",
    "print(model_loaded.predict([1, 1]))"
   ]
  },
  {
   "cell_type": "code",
   "execution_count": 58,
   "id": "4c1810ea",
   "metadata": {},
   "outputs": [],
   "source": [
    "import matplotlib.pyplot as plt \n",
    "\n",
    "%matplotlib inline"
   ]
  },
  {
   "cell_type": "code",
   "execution_count": 59,
   "id": "6aaa9c6e",
   "metadata": {
    "scrolled": false
   },
   "outputs": [
    {
     "data": {
      "image/png": "[encoded data removed]",
      "text/plain": [
       "<Figure size 432x288 with 1 Axes>"
      ]
     },
     "metadata": {
      "needs_background": "light"
     },
     "output_type": "display_data"
    }
   ],
   "source": [
    "plt.scatter(x[\"x1\"], x[\"x2\"], c=y)\n",
    "plt.xlabel(\"x1\")\n",
    "plt.ylabel(\"x2\")\n",
    "plt.show()"
   ]
  },
  {
   "cell_type": "markdown",
   "id": "cc0435ed",
   "metadata": {},
   "source": [
    "## Drawbacks of Perceptron"
   ]
  },
  {
   "cell_type": "markdown",
   "id": "941fa187",
   "metadata": {},
   "source": [
    "<ul>\n",
    "    <li>From the the above graph we cannot we can observer that we cannot liearly seperate the data.</li>\n",
    "    <li>So the Perceptron fails.</li>\n",
    "    <li>For improving these we use multi layer perceptron or Artificial Neural Network (ANN)</li>\n",
    "</ul>\n"
   ]
  }
 ],
 "metadata": {
  "kernelspec": {
   "display_name": "Python 3",
   "language": "python",
   "name": "python3"
  },
  "language_info": {
   "codemirror_mode": {
    "name": "ipython",
    "version": 3
   },
   "file_extension": ".py",
   "mimetype": "text/x-python",
   "name": "python",
   "nbconvert_exporter": "python",
   "pygments_lexer": "ipython3",
   "version": "3.9.5"
  }
 },
 "nbformat": 4,
 "nbformat_minor": 5
}
